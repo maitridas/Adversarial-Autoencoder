{
  "nbformat": 4,
  "nbformat_minor": 0,
  "metadata": {
    "colab": {
      "name": "19HS20028_MaitriDas_A2.ipynb",
      "provenance": [],
      "collapsed_sections": []
    },
    "kernelspec": {
      "name": "python3",
      "display_name": "Python 3"
    },
    "language_info": {
      "name": "python"
    },
    "widgets": {
      "application/vnd.jupyter.widget-state+json": {
        "73a5874cf5854524917631557d845fe5": {
          "model_module": "@jupyter-widgets/controls",
          "model_name": "HBoxModel",
          "model_module_version": "1.5.0",
          "state": {
            "_dom_classes": [],
            "_model_module": "@jupyter-widgets/controls",
            "_model_module_version": "1.5.0",
            "_model_name": "HBoxModel",
            "_view_count": null,
            "_view_module": "@jupyter-widgets/controls",
            "_view_module_version": "1.5.0",
            "_view_name": "HBoxView",
            "box_style": "",
            "children": [
              "IPY_MODEL_8e763eb54e0b4a7fa1370b3c77db81e7",
              "IPY_MODEL_83dad121e166488d852267d36ae378f5",
              "IPY_MODEL_514b4fd9d481495d9be36c38df4d3a54"
            ],
            "layout": "IPY_MODEL_ddf4f75f8a034e679aeb0a0afc77ac59"
          }
        },
        "8e763eb54e0b4a7fa1370b3c77db81e7": {
          "model_module": "@jupyter-widgets/controls",
          "model_name": "HTMLModel",
          "model_module_version": "1.5.0",
          "state": {
            "_dom_classes": [],
            "_model_module": "@jupyter-widgets/controls",
            "_model_module_version": "1.5.0",
            "_model_name": "HTMLModel",
            "_view_count": null,
            "_view_module": "@jupyter-widgets/controls",
            "_view_module_version": "1.5.0",
            "_view_name": "HTMLView",
            "description": "",
            "description_tooltip": null,
            "layout": "IPY_MODEL_90ca011e2d1b4d0eb5e3fe2961880960",
            "placeholder": "​",
            "style": "IPY_MODEL_dca01ab7ebac4630b5580c202ca5ceff",
            "value": ""
          }
        },
        "83dad121e166488d852267d36ae378f5": {
          "model_module": "@jupyter-widgets/controls",
          "model_name": "FloatProgressModel",
          "model_module_version": "1.5.0",
          "state": {
            "_dom_classes": [],
            "_model_module": "@jupyter-widgets/controls",
            "_model_module_version": "1.5.0",
            "_model_name": "FloatProgressModel",
            "_view_count": null,
            "_view_module": "@jupyter-widgets/controls",
            "_view_module_version": "1.5.0",
            "_view_name": "ProgressView",
            "bar_style": "success",
            "description": "",
            "description_tooltip": null,
            "layout": "IPY_MODEL_18e410e1f19446b9bcd15e18a9bf0f35",
            "max": 9912422,
            "min": 0,
            "orientation": "horizontal",
            "style": "IPY_MODEL_502d1bf9ecf1410dae441c3af4649992",
            "value": 9912422
          }
        },
        "514b4fd9d481495d9be36c38df4d3a54": {
          "model_module": "@jupyter-widgets/controls",
          "model_name": "HTMLModel",
          "model_module_version": "1.5.0",
          "state": {
            "_dom_classes": [],
            "_model_module": "@jupyter-widgets/controls",
            "_model_module_version": "1.5.0",
            "_model_name": "HTMLModel",
            "_view_count": null,
            "_view_module": "@jupyter-widgets/controls",
            "_view_module_version": "1.5.0",
            "_view_name": "HTMLView",
            "description": "",
            "description_tooltip": null,
            "layout": "IPY_MODEL_61469356aece48a08e0e6b5fb054c582",
            "placeholder": "​",
            "style": "IPY_MODEL_49bf483f16db48298d77c9dcef8aa8b2",
            "value": " 9913344/? [00:00&lt;00:00, 54087715.29it/s]"
          }
        },
        "ddf4f75f8a034e679aeb0a0afc77ac59": {
          "model_module": "@jupyter-widgets/base",
          "model_name": "LayoutModel",
          "model_module_version": "1.2.0",
          "state": {
            "_model_module": "@jupyter-widgets/base",
            "_model_module_version": "1.2.0",
            "_model_name": "LayoutModel",
            "_view_count": null,
            "_view_module": "@jupyter-widgets/base",
            "_view_module_version": "1.2.0",
            "_view_name": "LayoutView",
            "align_content": null,
            "align_items": null,
            "align_self": null,
            "border": null,
            "bottom": null,
            "display": null,
            "flex": null,
            "flex_flow": null,
            "grid_area": null,
            "grid_auto_columns": null,
            "grid_auto_flow": null,
            "grid_auto_rows": null,
            "grid_column": null,
            "grid_gap": null,
            "grid_row": null,
            "grid_template_areas": null,
            "grid_template_columns": null,
            "grid_template_rows": null,
            "height": null,
            "justify_content": null,
            "justify_items": null,
            "left": null,
            "margin": null,
            "max_height": null,
            "max_width": null,
            "min_height": null,
            "min_width": null,
            "object_fit": null,
            "object_position": null,
            "order": null,
            "overflow": null,
            "overflow_x": null,
            "overflow_y": null,
            "padding": null,
            "right": null,
            "top": null,
            "visibility": null,
            "width": null
          }
        },
        "90ca011e2d1b4d0eb5e3fe2961880960": {
          "model_module": "@jupyter-widgets/base",
          "model_name": "LayoutModel",
          "model_module_version": "1.2.0",
          "state": {
            "_model_module": "@jupyter-widgets/base",
            "_model_module_version": "1.2.0",
            "_model_name": "LayoutModel",
            "_view_count": null,
            "_view_module": "@jupyter-widgets/base",
            "_view_module_version": "1.2.0",
            "_view_name": "LayoutView",
            "align_content": null,
            "align_items": null,
            "align_self": null,
            "border": null,
            "bottom": null,
            "display": null,
            "flex": null,
            "flex_flow": null,
            "grid_area": null,
            "grid_auto_columns": null,
            "grid_auto_flow": null,
            "grid_auto_rows": null,
            "grid_column": null,
            "grid_gap": null,
            "grid_row": null,
            "grid_template_areas": null,
            "grid_template_columns": null,
            "grid_template_rows": null,
            "height": null,
            "justify_content": null,
            "justify_items": null,
            "left": null,
            "margin": null,
            "max_height": null,
            "max_width": null,
            "min_height": null,
            "min_width": null,
            "object_fit": null,
            "object_position": null,
            "order": null,
            "overflow": null,
            "overflow_x": null,
            "overflow_y": null,
            "padding": null,
            "right": null,
            "top": null,
            "visibility": null,
            "width": null
          }
        },
        "dca01ab7ebac4630b5580c202ca5ceff": {
          "model_module": "@jupyter-widgets/controls",
          "model_name": "DescriptionStyleModel",
          "model_module_version": "1.5.0",
          "state": {
            "_model_module": "@jupyter-widgets/controls",
            "_model_module_version": "1.5.0",
            "_model_name": "DescriptionStyleModel",
            "_view_count": null,
            "_view_module": "@jupyter-widgets/base",
            "_view_module_version": "1.2.0",
            "_view_name": "StyleView",
            "description_width": ""
          }
        },
        "18e410e1f19446b9bcd15e18a9bf0f35": {
          "model_module": "@jupyter-widgets/base",
          "model_name": "LayoutModel",
          "model_module_version": "1.2.0",
          "state": {
            "_model_module": "@jupyter-widgets/base",
            "_model_module_version": "1.2.0",
            "_model_name": "LayoutModel",
            "_view_count": null,
            "_view_module": "@jupyter-widgets/base",
            "_view_module_version": "1.2.0",
            "_view_name": "LayoutView",
            "align_content": null,
            "align_items": null,
            "align_self": null,
            "border": null,
            "bottom": null,
            "display": null,
            "flex": null,
            "flex_flow": null,
            "grid_area": null,
            "grid_auto_columns": null,
            "grid_auto_flow": null,
            "grid_auto_rows": null,
            "grid_column": null,
            "grid_gap": null,
            "grid_row": null,
            "grid_template_areas": null,
            "grid_template_columns": null,
            "grid_template_rows": null,
            "height": null,
            "justify_content": null,
            "justify_items": null,
            "left": null,
            "margin": null,
            "max_height": null,
            "max_width": null,
            "min_height": null,
            "min_width": null,
            "object_fit": null,
            "object_position": null,
            "order": null,
            "overflow": null,
            "overflow_x": null,
            "overflow_y": null,
            "padding": null,
            "right": null,
            "top": null,
            "visibility": null,
            "width": null
          }
        },
        "502d1bf9ecf1410dae441c3af4649992": {
          "model_module": "@jupyter-widgets/controls",
          "model_name": "ProgressStyleModel",
          "model_module_version": "1.5.0",
          "state": {
            "_model_module": "@jupyter-widgets/controls",
            "_model_module_version": "1.5.0",
            "_model_name": "ProgressStyleModel",
            "_view_count": null,
            "_view_module": "@jupyter-widgets/base",
            "_view_module_version": "1.2.0",
            "_view_name": "StyleView",
            "bar_color": null,
            "description_width": ""
          }
        },
        "61469356aece48a08e0e6b5fb054c582": {
          "model_module": "@jupyter-widgets/base",
          "model_name": "LayoutModel",
          "model_module_version": "1.2.0",
          "state": {
            "_model_module": "@jupyter-widgets/base",
            "_model_module_version": "1.2.0",
            "_model_name": "LayoutModel",
            "_view_count": null,
            "_view_module": "@jupyter-widgets/base",
            "_view_module_version": "1.2.0",
            "_view_name": "LayoutView",
            "align_content": null,
            "align_items": null,
            "align_self": null,
            "border": null,
            "bottom": null,
            "display": null,
            "flex": null,
            "flex_flow": null,
            "grid_area": null,
            "grid_auto_columns": null,
            "grid_auto_flow": null,
            "grid_auto_rows": null,
            "grid_column": null,
            "grid_gap": null,
            "grid_row": null,
            "grid_template_areas": null,
            "grid_template_columns": null,
            "grid_template_rows": null,
            "height": null,
            "justify_content": null,
            "justify_items": null,
            "left": null,
            "margin": null,
            "max_height": null,
            "max_width": null,
            "min_height": null,
            "min_width": null,
            "object_fit": null,
            "object_position": null,
            "order": null,
            "overflow": null,
            "overflow_x": null,
            "overflow_y": null,
            "padding": null,
            "right": null,
            "top": null,
            "visibility": null,
            "width": null
          }
        },
        "49bf483f16db48298d77c9dcef8aa8b2": {
          "model_module": "@jupyter-widgets/controls",
          "model_name": "DescriptionStyleModel",
          "model_module_version": "1.5.0",
          "state": {
            "_model_module": "@jupyter-widgets/controls",
            "_model_module_version": "1.5.0",
            "_model_name": "DescriptionStyleModel",
            "_view_count": null,
            "_view_module": "@jupyter-widgets/base",
            "_view_module_version": "1.2.0",
            "_view_name": "StyleView",
            "description_width": ""
          }
        },
        "f0e1f5f9d68a4f4881dfb9332a6fc73c": {
          "model_module": "@jupyter-widgets/controls",
          "model_name": "HBoxModel",
          "model_module_version": "1.5.0",
          "state": {
            "_dom_classes": [],
            "_model_module": "@jupyter-widgets/controls",
            "_model_module_version": "1.5.0",
            "_model_name": "HBoxModel",
            "_view_count": null,
            "_view_module": "@jupyter-widgets/controls",
            "_view_module_version": "1.5.0",
            "_view_name": "HBoxView",
            "box_style": "",
            "children": [
              "IPY_MODEL_5d4bbbb0eddc47978f30c4ab5f7ae6a3",
              "IPY_MODEL_39f34bf5645c4c45b4d2663124940609",
              "IPY_MODEL_a5d84ce4ca9a4c5c835ef3a96b466725"
            ],
            "layout": "IPY_MODEL_7b9ce14c9f834aaaa85ef42a8cf20b84"
          }
        },
        "5d4bbbb0eddc47978f30c4ab5f7ae6a3": {
          "model_module": "@jupyter-widgets/controls",
          "model_name": "HTMLModel",
          "model_module_version": "1.5.0",
          "state": {
            "_dom_classes": [],
            "_model_module": "@jupyter-widgets/controls",
            "_model_module_version": "1.5.0",
            "_model_name": "HTMLModel",
            "_view_count": null,
            "_view_module": "@jupyter-widgets/controls",
            "_view_module_version": "1.5.0",
            "_view_name": "HTMLView",
            "description": "",
            "description_tooltip": null,
            "layout": "IPY_MODEL_6bdb54ca2c364eaeb1f3ddc00722dd5d",
            "placeholder": "​",
            "style": "IPY_MODEL_c56971fd31dd42c48967a6cb2a486dce",
            "value": ""
          }
        },
        "39f34bf5645c4c45b4d2663124940609": {
          "model_module": "@jupyter-widgets/controls",
          "model_name": "FloatProgressModel",
          "model_module_version": "1.5.0",
          "state": {
            "_dom_classes": [],
            "_model_module": "@jupyter-widgets/controls",
            "_model_module_version": "1.5.0",
            "_model_name": "FloatProgressModel",
            "_view_count": null,
            "_view_module": "@jupyter-widgets/controls",
            "_view_module_version": "1.5.0",
            "_view_name": "ProgressView",
            "bar_style": "success",
            "description": "",
            "description_tooltip": null,
            "layout": "IPY_MODEL_012476ef28f24592bacea79455cafdfb",
            "max": 28881,
            "min": 0,
            "orientation": "horizontal",
            "style": "IPY_MODEL_ca0cef9722d24152852e5f59d1546a8d",
            "value": 28881
          }
        },
        "a5d84ce4ca9a4c5c835ef3a96b466725": {
          "model_module": "@jupyter-widgets/controls",
          "model_name": "HTMLModel",
          "model_module_version": "1.5.0",
          "state": {
            "_dom_classes": [],
            "_model_module": "@jupyter-widgets/controls",
            "_model_module_version": "1.5.0",
            "_model_name": "HTMLModel",
            "_view_count": null,
            "_view_module": "@jupyter-widgets/controls",
            "_view_module_version": "1.5.0",
            "_view_name": "HTMLView",
            "description": "",
            "description_tooltip": null,
            "layout": "IPY_MODEL_bb6635a8a07546bebb126aad1ddcf19b",
            "placeholder": "​",
            "style": "IPY_MODEL_e0347af17ce04922bef97de3879f2073",
            "value": " 29696/? [00:00&lt;00:00, 512855.14it/s]"
          }
        },
        "7b9ce14c9f834aaaa85ef42a8cf20b84": {
          "model_module": "@jupyter-widgets/base",
          "model_name": "LayoutModel",
          "model_module_version": "1.2.0",
          "state": {
            "_model_module": "@jupyter-widgets/base",
            "_model_module_version": "1.2.0",
            "_model_name": "LayoutModel",
            "_view_count": null,
            "_view_module": "@jupyter-widgets/base",
            "_view_module_version": "1.2.0",
            "_view_name": "LayoutView",
            "align_content": null,
            "align_items": null,
            "align_self": null,
            "border": null,
            "bottom": null,
            "display": null,
            "flex": null,
            "flex_flow": null,
            "grid_area": null,
            "grid_auto_columns": null,
            "grid_auto_flow": null,
            "grid_auto_rows": null,
            "grid_column": null,
            "grid_gap": null,
            "grid_row": null,
            "grid_template_areas": null,
            "grid_template_columns": null,
            "grid_template_rows": null,
            "height": null,
            "justify_content": null,
            "justify_items": null,
            "left": null,
            "margin": null,
            "max_height": null,
            "max_width": null,
            "min_height": null,
            "min_width": null,
            "object_fit": null,
            "object_position": null,
            "order": null,
            "overflow": null,
            "overflow_x": null,
            "overflow_y": null,
            "padding": null,
            "right": null,
            "top": null,
            "visibility": null,
            "width": null
          }
        },
        "6bdb54ca2c364eaeb1f3ddc00722dd5d": {
          "model_module": "@jupyter-widgets/base",
          "model_name": "LayoutModel",
          "model_module_version": "1.2.0",
          "state": {
            "_model_module": "@jupyter-widgets/base",
            "_model_module_version": "1.2.0",
            "_model_name": "LayoutModel",
            "_view_count": null,
            "_view_module": "@jupyter-widgets/base",
            "_view_module_version": "1.2.0",
            "_view_name": "LayoutView",
            "align_content": null,
            "align_items": null,
            "align_self": null,
            "border": null,
            "bottom": null,
            "display": null,
            "flex": null,
            "flex_flow": null,
            "grid_area": null,
            "grid_auto_columns": null,
            "grid_auto_flow": null,
            "grid_auto_rows": null,
            "grid_column": null,
            "grid_gap": null,
            "grid_row": null,
            "grid_template_areas": null,
            "grid_template_columns": null,
            "grid_template_rows": null,
            "height": null,
            "justify_content": null,
            "justify_items": null,
            "left": null,
            "margin": null,
            "max_height": null,
            "max_width": null,
            "min_height": null,
            "min_width": null,
            "object_fit": null,
            "object_position": null,
            "order": null,
            "overflow": null,
            "overflow_x": null,
            "overflow_y": null,
            "padding": null,
            "right": null,
            "top": null,
            "visibility": null,
            "width": null
          }
        },
        "c56971fd31dd42c48967a6cb2a486dce": {
          "model_module": "@jupyter-widgets/controls",
          "model_name": "DescriptionStyleModel",
          "model_module_version": "1.5.0",
          "state": {
            "_model_module": "@jupyter-widgets/controls",
            "_model_module_version": "1.5.0",
            "_model_name": "DescriptionStyleModel",
            "_view_count": null,
            "_view_module": "@jupyter-widgets/base",
            "_view_module_version": "1.2.0",
            "_view_name": "StyleView",
            "description_width": ""
          }
        },
        "012476ef28f24592bacea79455cafdfb": {
          "model_module": "@jupyter-widgets/base",
          "model_name": "LayoutModel",
          "model_module_version": "1.2.0",
          "state": {
            "_model_module": "@jupyter-widgets/base",
            "_model_module_version": "1.2.0",
            "_model_name": "LayoutModel",
            "_view_count": null,
            "_view_module": "@jupyter-widgets/base",
            "_view_module_version": "1.2.0",
            "_view_name": "LayoutView",
            "align_content": null,
            "align_items": null,
            "align_self": null,
            "border": null,
            "bottom": null,
            "display": null,
            "flex": null,
            "flex_flow": null,
            "grid_area": null,
            "grid_auto_columns": null,
            "grid_auto_flow": null,
            "grid_auto_rows": null,
            "grid_column": null,
            "grid_gap": null,
            "grid_row": null,
            "grid_template_areas": null,
            "grid_template_columns": null,
            "grid_template_rows": null,
            "height": null,
            "justify_content": null,
            "justify_items": null,
            "left": null,
            "margin": null,
            "max_height": null,
            "max_width": null,
            "min_height": null,
            "min_width": null,
            "object_fit": null,
            "object_position": null,
            "order": null,
            "overflow": null,
            "overflow_x": null,
            "overflow_y": null,
            "padding": null,
            "right": null,
            "top": null,
            "visibility": null,
            "width": null
          }
        },
        "ca0cef9722d24152852e5f59d1546a8d": {
          "model_module": "@jupyter-widgets/controls",
          "model_name": "ProgressStyleModel",
          "model_module_version": "1.5.0",
          "state": {
            "_model_module": "@jupyter-widgets/controls",
            "_model_module_version": "1.5.0",
            "_model_name": "ProgressStyleModel",
            "_view_count": null,
            "_view_module": "@jupyter-widgets/base",
            "_view_module_version": "1.2.0",
            "_view_name": "StyleView",
            "bar_color": null,
            "description_width": ""
          }
        },
        "bb6635a8a07546bebb126aad1ddcf19b": {
          "model_module": "@jupyter-widgets/base",
          "model_name": "LayoutModel",
          "model_module_version": "1.2.0",
          "state": {
            "_model_module": "@jupyter-widgets/base",
            "_model_module_version": "1.2.0",
            "_model_name": "LayoutModel",
            "_view_count": null,
            "_view_module": "@jupyter-widgets/base",
            "_view_module_version": "1.2.0",
            "_view_name": "LayoutView",
            "align_content": null,
            "align_items": null,
            "align_self": null,
            "border": null,
            "bottom": null,
            "display": null,
            "flex": null,
            "flex_flow": null,
            "grid_area": null,
            "grid_auto_columns": null,
            "grid_auto_flow": null,
            "grid_auto_rows": null,
            "grid_column": null,
            "grid_gap": null,
            "grid_row": null,
            "grid_template_areas": null,
            "grid_template_columns": null,
            "grid_template_rows": null,
            "height": null,
            "justify_content": null,
            "justify_items": null,
            "left": null,
            "margin": null,
            "max_height": null,
            "max_width": null,
            "min_height": null,
            "min_width": null,
            "object_fit": null,
            "object_position": null,
            "order": null,
            "overflow": null,
            "overflow_x": null,
            "overflow_y": null,
            "padding": null,
            "right": null,
            "top": null,
            "visibility": null,
            "width": null
          }
        },
        "e0347af17ce04922bef97de3879f2073": {
          "model_module": "@jupyter-widgets/controls",
          "model_name": "DescriptionStyleModel",
          "model_module_version": "1.5.0",
          "state": {
            "_model_module": "@jupyter-widgets/controls",
            "_model_module_version": "1.5.0",
            "_model_name": "DescriptionStyleModel",
            "_view_count": null,
            "_view_module": "@jupyter-widgets/base",
            "_view_module_version": "1.2.0",
            "_view_name": "StyleView",
            "description_width": ""
          }
        },
        "38e31d46398143e0912dadafeaaa709a": {
          "model_module": "@jupyter-widgets/controls",
          "model_name": "HBoxModel",
          "model_module_version": "1.5.0",
          "state": {
            "_dom_classes": [],
            "_model_module": "@jupyter-widgets/controls",
            "_model_module_version": "1.5.0",
            "_model_name": "HBoxModel",
            "_view_count": null,
            "_view_module": "@jupyter-widgets/controls",
            "_view_module_version": "1.5.0",
            "_view_name": "HBoxView",
            "box_style": "",
            "children": [
              "IPY_MODEL_97809cca31534a22abb29e37e277f7d7",
              "IPY_MODEL_2da8f7ab832d4d9eb22b6fef063b225f",
              "IPY_MODEL_959a7b097ece4399af4f00c8f7e0acaa"
            ],
            "layout": "IPY_MODEL_fe47c77f01584d33b9a61bfec3ec2fd9"
          }
        },
        "97809cca31534a22abb29e37e277f7d7": {
          "model_module": "@jupyter-widgets/controls",
          "model_name": "HTMLModel",
          "model_module_version": "1.5.0",
          "state": {
            "_dom_classes": [],
            "_model_module": "@jupyter-widgets/controls",
            "_model_module_version": "1.5.0",
            "_model_name": "HTMLModel",
            "_view_count": null,
            "_view_module": "@jupyter-widgets/controls",
            "_view_module_version": "1.5.0",
            "_view_name": "HTMLView",
            "description": "",
            "description_tooltip": null,
            "layout": "IPY_MODEL_427b60004848440ea49facc74f064cd5",
            "placeholder": "​",
            "style": "IPY_MODEL_fee8a22d9e8d476ebfabe7b552f5211b",
            "value": ""
          }
        },
        "2da8f7ab832d4d9eb22b6fef063b225f": {
          "model_module": "@jupyter-widgets/controls",
          "model_name": "FloatProgressModel",
          "model_module_version": "1.5.0",
          "state": {
            "_dom_classes": [],
            "_model_module": "@jupyter-widgets/controls",
            "_model_module_version": "1.5.0",
            "_model_name": "FloatProgressModel",
            "_view_count": null,
            "_view_module": "@jupyter-widgets/controls",
            "_view_module_version": "1.5.0",
            "_view_name": "ProgressView",
            "bar_style": "success",
            "description": "",
            "description_tooltip": null,
            "layout": "IPY_MODEL_43aa6651cafe44b786b63afeb93f7305",
            "max": 1648877,
            "min": 0,
            "orientation": "horizontal",
            "style": "IPY_MODEL_85576f949958407a9ff9e63222fef8a5",
            "value": 1648877
          }
        },
        "959a7b097ece4399af4f00c8f7e0acaa": {
          "model_module": "@jupyter-widgets/controls",
          "model_name": "HTMLModel",
          "model_module_version": "1.5.0",
          "state": {
            "_dom_classes": [],
            "_model_module": "@jupyter-widgets/controls",
            "_model_module_version": "1.5.0",
            "_model_name": "HTMLModel",
            "_view_count": null,
            "_view_module": "@jupyter-widgets/controls",
            "_view_module_version": "1.5.0",
            "_view_name": "HTMLView",
            "description": "",
            "description_tooltip": null,
            "layout": "IPY_MODEL_76325ca4c54a497e833d6ddd6ba4513f",
            "placeholder": "​",
            "style": "IPY_MODEL_30ea0a2e0a744367b7cf341a0144edac",
            "value": " 1649664/? [00:00&lt;00:00, 16792485.00it/s]"
          }
        },
        "fe47c77f01584d33b9a61bfec3ec2fd9": {
          "model_module": "@jupyter-widgets/base",
          "model_name": "LayoutModel",
          "model_module_version": "1.2.0",
          "state": {
            "_model_module": "@jupyter-widgets/base",
            "_model_module_version": "1.2.0",
            "_model_name": "LayoutModel",
            "_view_count": null,
            "_view_module": "@jupyter-widgets/base",
            "_view_module_version": "1.2.0",
            "_view_name": "LayoutView",
            "align_content": null,
            "align_items": null,
            "align_self": null,
            "border": null,
            "bottom": null,
            "display": null,
            "flex": null,
            "flex_flow": null,
            "grid_area": null,
            "grid_auto_columns": null,
            "grid_auto_flow": null,
            "grid_auto_rows": null,
            "grid_column": null,
            "grid_gap": null,
            "grid_row": null,
            "grid_template_areas": null,
            "grid_template_columns": null,
            "grid_template_rows": null,
            "height": null,
            "justify_content": null,
            "justify_items": null,
            "left": null,
            "margin": null,
            "max_height": null,
            "max_width": null,
            "min_height": null,
            "min_width": null,
            "object_fit": null,
            "object_position": null,
            "order": null,
            "overflow": null,
            "overflow_x": null,
            "overflow_y": null,
            "padding": null,
            "right": null,
            "top": null,
            "visibility": null,
            "width": null
          }
        },
        "427b60004848440ea49facc74f064cd5": {
          "model_module": "@jupyter-widgets/base",
          "model_name": "LayoutModel",
          "model_module_version": "1.2.0",
          "state": {
            "_model_module": "@jupyter-widgets/base",
            "_model_module_version": "1.2.0",
            "_model_name": "LayoutModel",
            "_view_count": null,
            "_view_module": "@jupyter-widgets/base",
            "_view_module_version": "1.2.0",
            "_view_name": "LayoutView",
            "align_content": null,
            "align_items": null,
            "align_self": null,
            "border": null,
            "bottom": null,
            "display": null,
            "flex": null,
            "flex_flow": null,
            "grid_area": null,
            "grid_auto_columns": null,
            "grid_auto_flow": null,
            "grid_auto_rows": null,
            "grid_column": null,
            "grid_gap": null,
            "grid_row": null,
            "grid_template_areas": null,
            "grid_template_columns": null,
            "grid_template_rows": null,
            "height": null,
            "justify_content": null,
            "justify_items": null,
            "left": null,
            "margin": null,
            "max_height": null,
            "max_width": null,
            "min_height": null,
            "min_width": null,
            "object_fit": null,
            "object_position": null,
            "order": null,
            "overflow": null,
            "overflow_x": null,
            "overflow_y": null,
            "padding": null,
            "right": null,
            "top": null,
            "visibility": null,
            "width": null
          }
        },
        "fee8a22d9e8d476ebfabe7b552f5211b": {
          "model_module": "@jupyter-widgets/controls",
          "model_name": "DescriptionStyleModel",
          "model_module_version": "1.5.0",
          "state": {
            "_model_module": "@jupyter-widgets/controls",
            "_model_module_version": "1.5.0",
            "_model_name": "DescriptionStyleModel",
            "_view_count": null,
            "_view_module": "@jupyter-widgets/base",
            "_view_module_version": "1.2.0",
            "_view_name": "StyleView",
            "description_width": ""
          }
        },
        "43aa6651cafe44b786b63afeb93f7305": {
          "model_module": "@jupyter-widgets/base",
          "model_name": "LayoutModel",
          "model_module_version": "1.2.0",
          "state": {
            "_model_module": "@jupyter-widgets/base",
            "_model_module_version": "1.2.0",
            "_model_name": "LayoutModel",
            "_view_count": null,
            "_view_module": "@jupyter-widgets/base",
            "_view_module_version": "1.2.0",
            "_view_name": "LayoutView",
            "align_content": null,
            "align_items": null,
            "align_self": null,
            "border": null,
            "bottom": null,
            "display": null,
            "flex": null,
            "flex_flow": null,
            "grid_area": null,
            "grid_auto_columns": null,
            "grid_auto_flow": null,
            "grid_auto_rows": null,
            "grid_column": null,
            "grid_gap": null,
            "grid_row": null,
            "grid_template_areas": null,
            "grid_template_columns": null,
            "grid_template_rows": null,
            "height": null,
            "justify_content": null,
            "justify_items": null,
            "left": null,
            "margin": null,
            "max_height": null,
            "max_width": null,
            "min_height": null,
            "min_width": null,
            "object_fit": null,
            "object_position": null,
            "order": null,
            "overflow": null,
            "overflow_x": null,
            "overflow_y": null,
            "padding": null,
            "right": null,
            "top": null,
            "visibility": null,
            "width": null
          }
        },
        "85576f949958407a9ff9e63222fef8a5": {
          "model_module": "@jupyter-widgets/controls",
          "model_name": "ProgressStyleModel",
          "model_module_version": "1.5.0",
          "state": {
            "_model_module": "@jupyter-widgets/controls",
            "_model_module_version": "1.5.0",
            "_model_name": "ProgressStyleModel",
            "_view_count": null,
            "_view_module": "@jupyter-widgets/base",
            "_view_module_version": "1.2.0",
            "_view_name": "StyleView",
            "bar_color": null,
            "description_width": ""
          }
        },
        "76325ca4c54a497e833d6ddd6ba4513f": {
          "model_module": "@jupyter-widgets/base",
          "model_name": "LayoutModel",
          "model_module_version": "1.2.0",
          "state": {
            "_model_module": "@jupyter-widgets/base",
            "_model_module_version": "1.2.0",
            "_model_name": "LayoutModel",
            "_view_count": null,
            "_view_module": "@jupyter-widgets/base",
            "_view_module_version": "1.2.0",
            "_view_name": "LayoutView",
            "align_content": null,
            "align_items": null,
            "align_self": null,
            "border": null,
            "bottom": null,
            "display": null,
            "flex": null,
            "flex_flow": null,
            "grid_area": null,
            "grid_auto_columns": null,
            "grid_auto_flow": null,
            "grid_auto_rows": null,
            "grid_column": null,
            "grid_gap": null,
            "grid_row": null,
            "grid_template_areas": null,
            "grid_template_columns": null,
            "grid_template_rows": null,
            "height": null,
            "justify_content": null,
            "justify_items": null,
            "left": null,
            "margin": null,
            "max_height": null,
            "max_width": null,
            "min_height": null,
            "min_width": null,
            "object_fit": null,
            "object_position": null,
            "order": null,
            "overflow": null,
            "overflow_x": null,
            "overflow_y": null,
            "padding": null,
            "right": null,
            "top": null,
            "visibility": null,
            "width": null
          }
        },
        "30ea0a2e0a744367b7cf341a0144edac": {
          "model_module": "@jupyter-widgets/controls",
          "model_name": "DescriptionStyleModel",
          "model_module_version": "1.5.0",
          "state": {
            "_model_module": "@jupyter-widgets/controls",
            "_model_module_version": "1.5.0",
            "_model_name": "DescriptionStyleModel",
            "_view_count": null,
            "_view_module": "@jupyter-widgets/base",
            "_view_module_version": "1.2.0",
            "_view_name": "StyleView",
            "description_width": ""
          }
        },
        "e816012a020a4e91b11591ad39034de3": {
          "model_module": "@jupyter-widgets/controls",
          "model_name": "HBoxModel",
          "model_module_version": "1.5.0",
          "state": {
            "_dom_classes": [],
            "_model_module": "@jupyter-widgets/controls",
            "_model_module_version": "1.5.0",
            "_model_name": "HBoxModel",
            "_view_count": null,
            "_view_module": "@jupyter-widgets/controls",
            "_view_module_version": "1.5.0",
            "_view_name": "HBoxView",
            "box_style": "",
            "children": [
              "IPY_MODEL_44a1d15ed93847998d5c16ac3b03b0b2",
              "IPY_MODEL_2aebf3385fbb49a89fd0834440471db2",
              "IPY_MODEL_90b5acd41abb4ad58fc188ca4f48b377"
            ],
            "layout": "IPY_MODEL_a169c61eca5d42e5a91f6d1271431791"
          }
        },
        "44a1d15ed93847998d5c16ac3b03b0b2": {
          "model_module": "@jupyter-widgets/controls",
          "model_name": "HTMLModel",
          "model_module_version": "1.5.0",
          "state": {
            "_dom_classes": [],
            "_model_module": "@jupyter-widgets/controls",
            "_model_module_version": "1.5.0",
            "_model_name": "HTMLModel",
            "_view_count": null,
            "_view_module": "@jupyter-widgets/controls",
            "_view_module_version": "1.5.0",
            "_view_name": "HTMLView",
            "description": "",
            "description_tooltip": null,
            "layout": "IPY_MODEL_7ad8a3f7ae7c40abb8daf34f7f313c70",
            "placeholder": "​",
            "style": "IPY_MODEL_0fe9645c06134d78a12020cad5a043db",
            "value": ""
          }
        },
        "2aebf3385fbb49a89fd0834440471db2": {
          "model_module": "@jupyter-widgets/controls",
          "model_name": "FloatProgressModel",
          "model_module_version": "1.5.0",
          "state": {
            "_dom_classes": [],
            "_model_module": "@jupyter-widgets/controls",
            "_model_module_version": "1.5.0",
            "_model_name": "FloatProgressModel",
            "_view_count": null,
            "_view_module": "@jupyter-widgets/controls",
            "_view_module_version": "1.5.0",
            "_view_name": "ProgressView",
            "bar_style": "success",
            "description": "",
            "description_tooltip": null,
            "layout": "IPY_MODEL_94412f8a125541bc988898c4b484f7d3",
            "max": 4542,
            "min": 0,
            "orientation": "horizontal",
            "style": "IPY_MODEL_2a9cc8b958d642019f4563dc43bccaa0",
            "value": 4542
          }
        },
        "90b5acd41abb4ad58fc188ca4f48b377": {
          "model_module": "@jupyter-widgets/controls",
          "model_name": "HTMLModel",
          "model_module_version": "1.5.0",
          "state": {
            "_dom_classes": [],
            "_model_module": "@jupyter-widgets/controls",
            "_model_module_version": "1.5.0",
            "_model_name": "HTMLModel",
            "_view_count": null,
            "_view_module": "@jupyter-widgets/controls",
            "_view_module_version": "1.5.0",
            "_view_name": "HTMLView",
            "description": "",
            "description_tooltip": null,
            "layout": "IPY_MODEL_8a1441b1eccd408e800946fafd6cc1f7",
            "placeholder": "​",
            "style": "IPY_MODEL_adceee425a54431a930c30e0f5c4434f",
            "value": " 5120/? [00:00&lt;00:00, 138799.86it/s]"
          }
        },
        "a169c61eca5d42e5a91f6d1271431791": {
          "model_module": "@jupyter-widgets/base",
          "model_name": "LayoutModel",
          "model_module_version": "1.2.0",
          "state": {
            "_model_module": "@jupyter-widgets/base",
            "_model_module_version": "1.2.0",
            "_model_name": "LayoutModel",
            "_view_count": null,
            "_view_module": "@jupyter-widgets/base",
            "_view_module_version": "1.2.0",
            "_view_name": "LayoutView",
            "align_content": null,
            "align_items": null,
            "align_self": null,
            "border": null,
            "bottom": null,
            "display": null,
            "flex": null,
            "flex_flow": null,
            "grid_area": null,
            "grid_auto_columns": null,
            "grid_auto_flow": null,
            "grid_auto_rows": null,
            "grid_column": null,
            "grid_gap": null,
            "grid_row": null,
            "grid_template_areas": null,
            "grid_template_columns": null,
            "grid_template_rows": null,
            "height": null,
            "justify_content": null,
            "justify_items": null,
            "left": null,
            "margin": null,
            "max_height": null,
            "max_width": null,
            "min_height": null,
            "min_width": null,
            "object_fit": null,
            "object_position": null,
            "order": null,
            "overflow": null,
            "overflow_x": null,
            "overflow_y": null,
            "padding": null,
            "right": null,
            "top": null,
            "visibility": null,
            "width": null
          }
        },
        "7ad8a3f7ae7c40abb8daf34f7f313c70": {
          "model_module": "@jupyter-widgets/base",
          "model_name": "LayoutModel",
          "model_module_version": "1.2.0",
          "state": {
            "_model_module": "@jupyter-widgets/base",
            "_model_module_version": "1.2.0",
            "_model_name": "LayoutModel",
            "_view_count": null,
            "_view_module": "@jupyter-widgets/base",
            "_view_module_version": "1.2.0",
            "_view_name": "LayoutView",
            "align_content": null,
            "align_items": null,
            "align_self": null,
            "border": null,
            "bottom": null,
            "display": null,
            "flex": null,
            "flex_flow": null,
            "grid_area": null,
            "grid_auto_columns": null,
            "grid_auto_flow": null,
            "grid_auto_rows": null,
            "grid_column": null,
            "grid_gap": null,
            "grid_row": null,
            "grid_template_areas": null,
            "grid_template_columns": null,
            "grid_template_rows": null,
            "height": null,
            "justify_content": null,
            "justify_items": null,
            "left": null,
            "margin": null,
            "max_height": null,
            "max_width": null,
            "min_height": null,
            "min_width": null,
            "object_fit": null,
            "object_position": null,
            "order": null,
            "overflow": null,
            "overflow_x": null,
            "overflow_y": null,
            "padding": null,
            "right": null,
            "top": null,
            "visibility": null,
            "width": null
          }
        },
        "0fe9645c06134d78a12020cad5a043db": {
          "model_module": "@jupyter-widgets/controls",
          "model_name": "DescriptionStyleModel",
          "model_module_version": "1.5.0",
          "state": {
            "_model_module": "@jupyter-widgets/controls",
            "_model_module_version": "1.5.0",
            "_model_name": "DescriptionStyleModel",
            "_view_count": null,
            "_view_module": "@jupyter-widgets/base",
            "_view_module_version": "1.2.0",
            "_view_name": "StyleView",
            "description_width": ""
          }
        },
        "94412f8a125541bc988898c4b484f7d3": {
          "model_module": "@jupyter-widgets/base",
          "model_name": "LayoutModel",
          "model_module_version": "1.2.0",
          "state": {
            "_model_module": "@jupyter-widgets/base",
            "_model_module_version": "1.2.0",
            "_model_name": "LayoutModel",
            "_view_count": null,
            "_view_module": "@jupyter-widgets/base",
            "_view_module_version": "1.2.0",
            "_view_name": "LayoutView",
            "align_content": null,
            "align_items": null,
            "align_self": null,
            "border": null,
            "bottom": null,
            "display": null,
            "flex": null,
            "flex_flow": null,
            "grid_area": null,
            "grid_auto_columns": null,
            "grid_auto_flow": null,
            "grid_auto_rows": null,
            "grid_column": null,
            "grid_gap": null,
            "grid_row": null,
            "grid_template_areas": null,
            "grid_template_columns": null,
            "grid_template_rows": null,
            "height": null,
            "justify_content": null,
            "justify_items": null,
            "left": null,
            "margin": null,
            "max_height": null,
            "max_width": null,
            "min_height": null,
            "min_width": null,
            "object_fit": null,
            "object_position": null,
            "order": null,
            "overflow": null,
            "overflow_x": null,
            "overflow_y": null,
            "padding": null,
            "right": null,
            "top": null,
            "visibility": null,
            "width": null
          }
        },
        "2a9cc8b958d642019f4563dc43bccaa0": {
          "model_module": "@jupyter-widgets/controls",
          "model_name": "ProgressStyleModel",
          "model_module_version": "1.5.0",
          "state": {
            "_model_module": "@jupyter-widgets/controls",
            "_model_module_version": "1.5.0",
            "_model_name": "ProgressStyleModel",
            "_view_count": null,
            "_view_module": "@jupyter-widgets/base",
            "_view_module_version": "1.2.0",
            "_view_name": "StyleView",
            "bar_color": null,
            "description_width": ""
          }
        },
        "8a1441b1eccd408e800946fafd6cc1f7": {
          "model_module": "@jupyter-widgets/base",
          "model_name": "LayoutModel",
          "model_module_version": "1.2.0",
          "state": {
            "_model_module": "@jupyter-widgets/base",
            "_model_module_version": "1.2.0",
            "_model_name": "LayoutModel",
            "_view_count": null,
            "_view_module": "@jupyter-widgets/base",
            "_view_module_version": "1.2.0",
            "_view_name": "LayoutView",
            "align_content": null,
            "align_items": null,
            "align_self": null,
            "border": null,
            "bottom": null,
            "display": null,
            "flex": null,
            "flex_flow": null,
            "grid_area": null,
            "grid_auto_columns": null,
            "grid_auto_flow": null,
            "grid_auto_rows": null,
            "grid_column": null,
            "grid_gap": null,
            "grid_row": null,
            "grid_template_areas": null,
            "grid_template_columns": null,
            "grid_template_rows": null,
            "height": null,
            "justify_content": null,
            "justify_items": null,
            "left": null,
            "margin": null,
            "max_height": null,
            "max_width": null,
            "min_height": null,
            "min_width": null,
            "object_fit": null,
            "object_position": null,
            "order": null,
            "overflow": null,
            "overflow_x": null,
            "overflow_y": null,
            "padding": null,
            "right": null,
            "top": null,
            "visibility": null,
            "width": null
          }
        },
        "adceee425a54431a930c30e0f5c4434f": {
          "model_module": "@jupyter-widgets/controls",
          "model_name": "DescriptionStyleModel",
          "model_module_version": "1.5.0",
          "state": {
            "_model_module": "@jupyter-widgets/controls",
            "_model_module_version": "1.5.0",
            "_model_name": "DescriptionStyleModel",
            "_view_count": null,
            "_view_module": "@jupyter-widgets/base",
            "_view_module_version": "1.2.0",
            "_view_name": "StyleView",
            "description_width": ""
          }
        }
      }
    }
  },
  "cells": [
    {
      "cell_type": "markdown",
      "source": [
        "Name -  Maitri Das\n",
        "\n",
        "Roll no. - 19HS20028"
      ],
      "metadata": {
        "id": "oMjU0BtZ9Fv_"
      }
    },
    {
      "cell_type": "code",
      "execution_count": null,
      "metadata": {
        "id": "BcomXJlknJht"
      },
      "outputs": [],
      "source": [
        "# standard libraries\n",
        "import matplotlib\n",
        "import numpy\n",
        "import os\n",
        "import sys\n",
        "import glob\n",
        "import pandas as pd\n",
        "import random\n",
        "import PIL.Image\n",
        "import numpy as np\n",
        "import matplotlib.pyplot as plt\n",
        "import cv2\n",
        "from scipy import ndimage\n",
        "from sklearn.model_selection import train_test_split\n",
        "\n",
        "# Pytorch Libraries\n",
        "import torch\n",
        "import torch.nn as nn\n",
        "import torchvision.transforms.functional as TF\n",
        "from torchvision import transforms, datasets\n",
        "from torch.utils.data import Dataset\n",
        "import albumentations as A\n",
        "from albumentations.pytorch import ToTensor\n",
        "from tqdm import tqdm\n",
        "import torch.optim as optim\n",
        "import torch.nn as nn\n",
        "from torch.utils.data import DataLoader\n",
        "import torchvision\n",
        "from torchsummary import summary\n",
        "import torch.nn.functional as F\n",
        "from torch.autograd import Variable"
      ]
    },
    {
      "cell_type": "code",
      "source": [
        "transform = transforms.ToTensor()\n",
        "mnist_dataset = datasets.MNIST(root='./data', train=True, download=True, transform=transform)\n",
        "data_loader = torch.utils.data.DataLoader(dataset=mnist_dataset, batch_size=64, shuffle=True)"
      ],
      "metadata": {
        "colab": {
          "base_uri": "https://localhost:8080/",
          "height": 436,
          "referenced_widgets": [
            "73a5874cf5854524917631557d845fe5",
            "8e763eb54e0b4a7fa1370b3c77db81e7",
            "83dad121e166488d852267d36ae378f5",
            "514b4fd9d481495d9be36c38df4d3a54",
            "ddf4f75f8a034e679aeb0a0afc77ac59",
            "90ca011e2d1b4d0eb5e3fe2961880960",
            "dca01ab7ebac4630b5580c202ca5ceff",
            "18e410e1f19446b9bcd15e18a9bf0f35",
            "502d1bf9ecf1410dae441c3af4649992",
            "61469356aece48a08e0e6b5fb054c582",
            "49bf483f16db48298d77c9dcef8aa8b2",
            "f0e1f5f9d68a4f4881dfb9332a6fc73c",
            "5d4bbbb0eddc47978f30c4ab5f7ae6a3",
            "39f34bf5645c4c45b4d2663124940609",
            "a5d84ce4ca9a4c5c835ef3a96b466725",
            "7b9ce14c9f834aaaa85ef42a8cf20b84",
            "6bdb54ca2c364eaeb1f3ddc00722dd5d",
            "c56971fd31dd42c48967a6cb2a486dce",
            "012476ef28f24592bacea79455cafdfb",
            "ca0cef9722d24152852e5f59d1546a8d",
            "bb6635a8a07546bebb126aad1ddcf19b",
            "e0347af17ce04922bef97de3879f2073",
            "38e31d46398143e0912dadafeaaa709a",
            "97809cca31534a22abb29e37e277f7d7",
            "2da8f7ab832d4d9eb22b6fef063b225f",
            "959a7b097ece4399af4f00c8f7e0acaa",
            "fe47c77f01584d33b9a61bfec3ec2fd9",
            "427b60004848440ea49facc74f064cd5",
            "fee8a22d9e8d476ebfabe7b552f5211b",
            "43aa6651cafe44b786b63afeb93f7305",
            "85576f949958407a9ff9e63222fef8a5",
            "76325ca4c54a497e833d6ddd6ba4513f",
            "30ea0a2e0a744367b7cf341a0144edac",
            "e816012a020a4e91b11591ad39034de3",
            "44a1d15ed93847998d5c16ac3b03b0b2",
            "2aebf3385fbb49a89fd0834440471db2",
            "90b5acd41abb4ad58fc188ca4f48b377",
            "a169c61eca5d42e5a91f6d1271431791",
            "7ad8a3f7ae7c40abb8daf34f7f313c70",
            "0fe9645c06134d78a12020cad5a043db",
            "94412f8a125541bc988898c4b484f7d3",
            "2a9cc8b958d642019f4563dc43bccaa0",
            "8a1441b1eccd408e800946fafd6cc1f7",
            "adceee425a54431a930c30e0f5c4434f"
          ]
        },
        "id": "lF4Y7V5EhfRo",
        "outputId": "c4a9dad1-178c-493d-a446-27edd22f6689"
      },
      "execution_count": null,
      "outputs": [
        {
          "output_type": "stream",
          "name": "stdout",
          "text": [
            "Downloading http://yann.lecun.com/exdb/mnist/train-images-idx3-ubyte.gz\n",
            "Downloading http://yann.lecun.com/exdb/mnist/train-images-idx3-ubyte.gz to ./data/MNIST/raw/train-images-idx3-ubyte.gz\n"
          ]
        },
        {
          "output_type": "display_data",
          "data": {
            "text/plain": [
              "  0%|          | 0/9912422 [00:00<?, ?it/s]"
            ],
            "application/vnd.jupyter.widget-view+json": {
              "version_major": 2,
              "version_minor": 0,
              "model_id": "73a5874cf5854524917631557d845fe5"
            }
          },
          "metadata": {}
        },
        {
          "output_type": "stream",
          "name": "stdout",
          "text": [
            "Extracting ./data/MNIST/raw/train-images-idx3-ubyte.gz to ./data/MNIST/raw\n",
            "\n",
            "Downloading http://yann.lecun.com/exdb/mnist/train-labels-idx1-ubyte.gz\n",
            "Downloading http://yann.lecun.com/exdb/mnist/train-labels-idx1-ubyte.gz to ./data/MNIST/raw/train-labels-idx1-ubyte.gz\n"
          ]
        },
        {
          "output_type": "display_data",
          "data": {
            "text/plain": [
              "  0%|          | 0/28881 [00:00<?, ?it/s]"
            ],
            "application/vnd.jupyter.widget-view+json": {
              "version_major": 2,
              "version_minor": 0,
              "model_id": "f0e1f5f9d68a4f4881dfb9332a6fc73c"
            }
          },
          "metadata": {}
        },
        {
          "output_type": "stream",
          "name": "stdout",
          "text": [
            "Extracting ./data/MNIST/raw/train-labels-idx1-ubyte.gz to ./data/MNIST/raw\n",
            "\n",
            "Downloading http://yann.lecun.com/exdb/mnist/t10k-images-idx3-ubyte.gz\n",
            "Downloading http://yann.lecun.com/exdb/mnist/t10k-images-idx3-ubyte.gz to ./data/MNIST/raw/t10k-images-idx3-ubyte.gz\n"
          ]
        },
        {
          "output_type": "display_data",
          "data": {
            "text/plain": [
              "  0%|          | 0/1648877 [00:00<?, ?it/s]"
            ],
            "application/vnd.jupyter.widget-view+json": {
              "version_major": 2,
              "version_minor": 0,
              "model_id": "38e31d46398143e0912dadafeaaa709a"
            }
          },
          "metadata": {}
        },
        {
          "output_type": "stream",
          "name": "stdout",
          "text": [
            "Extracting ./data/MNIST/raw/t10k-images-idx3-ubyte.gz to ./data/MNIST/raw\n",
            "\n",
            "Downloading http://yann.lecun.com/exdb/mnist/t10k-labels-idx1-ubyte.gz\n",
            "Downloading http://yann.lecun.com/exdb/mnist/t10k-labels-idx1-ubyte.gz to ./data/MNIST/raw/t10k-labels-idx1-ubyte.gz\n"
          ]
        },
        {
          "output_type": "display_data",
          "data": {
            "text/plain": [
              "  0%|          | 0/4542 [00:00<?, ?it/s]"
            ],
            "application/vnd.jupyter.widget-view+json": {
              "version_major": 2,
              "version_minor": 0,
              "model_id": "e816012a020a4e91b11591ad39034de3"
            }
          },
          "metadata": {}
        },
        {
          "output_type": "stream",
          "name": "stdout",
          "text": [
            "Extracting ./data/MNIST/raw/t10k-labels-idx1-ubyte.gz to ./data/MNIST/raw\n",
            "\n"
          ]
        }
      ]
    },
    {
      "cell_type": "code",
      "source": [
        "data = mnist_dataset.__getitem__(4)"
      ],
      "metadata": {
        "id": "HNeH7Md6io9z"
      },
      "execution_count": null,
      "outputs": []
    },
    {
      "cell_type": "code",
      "source": [
        "data[0].shape"
      ],
      "metadata": {
        "colab": {
          "base_uri": "https://localhost:8080/"
        },
        "id": "RscugGSbi06e",
        "outputId": "d5313db9-7699-4316-d343-7bc99397f2ad"
      },
      "execution_count": null,
      "outputs": [
        {
          "output_type": "execute_result",
          "data": {
            "text/plain": [
              "torch.Size([1, 28, 28])"
            ]
          },
          "metadata": {},
          "execution_count": 5
        }
      ]
    },
    {
      "cell_type": "markdown",
      "source": [
        "## Parameters"
      ],
      "metadata": {
        "id": "YwEY7WxAjKmW"
      }
    },
    {
      "cell_type": "code",
      "source": [
        "X_dim = 28*28\n",
        "z_dim = 2"
      ],
      "metadata": {
        "id": "PWbjG7DOjJ8m"
      },
      "execution_count": null,
      "outputs": []
    },
    {
      "cell_type": "markdown",
      "source": [
        "## Adversarial Autoencoder"
      ],
      "metadata": {
        "id": "MgUsYhlXZUZy"
      }
    },
    {
      "cell_type": "code",
      "source": [
        "class encoder(nn.Module):\n",
        "    def __init__(self, X_dim, z_dim):\n",
        "        super(encoder, self).__init__()\n",
        "        self.lin1 = nn.Linear(X_dim, 1000)\n",
        "        self.lin2 = nn.Linear(1000, 1000)\n",
        "        self.lin3gauss = nn.Linear(1000, z_dim)\n",
        "    def forward(self, x):\n",
        "        x = F.dropout(self.lin1(x), p=0.25, training=self.training)\n",
        "        x = F.relu(x)\n",
        "        x = F.dropout(self.lin2(x), p=0.25, training=self.training)\n",
        "        x = F.relu(x)\n",
        "        xgauss = self.lin3gauss(x)\n",
        "        return xgauss"
      ],
      "metadata": {
        "id": "aAMzdlAxhkZT"
      },
      "execution_count": null,
      "outputs": []
    },
    {
      "cell_type": "code",
      "source": [
        "# Decoder\n",
        "class decoder(nn.Module):\n",
        "    def __init__(self, z_dim, X_dim):\n",
        "        super(decoder, self).__init__()\n",
        "        self.lin1 = nn.Linear(z_dim, 1000)\n",
        "        self.lin2 = nn.Linear(1000, 1000)\n",
        "        self.lin3 = nn.Linear(1000, X_dim)\n",
        "    def forward(self, x):\n",
        "        x = self.lin1(x)\n",
        "        x = F.dropout(x, p=0.25, training=self.training)\n",
        "        x = F.relu(x)\n",
        "        x = self.lin2(x)\n",
        "        x = F.dropout(x, p=0.25, training=self.training)\n",
        "        x = self.lin3(x)\n",
        "        return F.sigmoid(x)"
      ],
      "metadata": {
        "id": "5L-ri4WcaMO8"
      },
      "execution_count": null,
      "outputs": []
    },
    {
      "cell_type": "code",
      "source": [
        "# Discriminator\n",
        "class discriminator(nn.Module):\n",
        "    def __init__(self, z_dim):\n",
        "        super(discriminator, self).__init__()\n",
        "        self.lin1 = nn.Linear(z_dim, 500)\n",
        "        self.lin2 = nn.Linear(500, 1)\n",
        "    def forward(self, x):\n",
        "        x = F.dropout(self.lin1(x), p=0.2, training=self.training)\n",
        "        x = F.relu(x)\n",
        "        return F.sigmoid(self.lin2(x))"
      ],
      "metadata": {
        "id": "p8d-UXybaPgN"
      },
      "execution_count": null,
      "outputs": []
    },
    {
      "cell_type": "markdown",
      "source": [
        "## Hyperparameters "
      ],
      "metadata": {
        "id": "PSuA6pVpozhI"
      }
    },
    {
      "cell_type": "code",
      "source": [
        "enc_lr = 0.0001\n",
        "dis_lr = 0.00005\n",
        "epochs = 100\n",
        "batch_size = 64\n",
        "EPS = 1e-15"
      ],
      "metadata": {
        "id": "aGTbMAmwo3JT"
      },
      "execution_count": null,
      "outputs": []
    },
    {
      "cell_type": "markdown",
      "source": [
        "## Utility Functions"
      ],
      "metadata": {
        "id": "yq7DvUNCu34L"
      }
    },
    {
      "cell_type": "code",
      "source": [
        "def to_np(x):\n",
        "    return x.data.cpu().numpy()\n",
        "\n",
        "def to_var(x):\n",
        "    if torch.cuda.is_available():\n",
        "        x = x.cuda()\n",
        "    return Variable(x)    "
      ],
      "metadata": {
        "id": "uoGO_dWPu6kG"
      },
      "execution_count": null,
      "outputs": []
    },
    {
      "cell_type": "markdown",
      "source": [
        "## Training - Mean squared error loss"
      ],
      "metadata": {
        "id": "l-YHDKIakABi"
      }
    },
    {
      "cell_type": "code",
      "source": [
        "torch.manual_seed(10)\n",
        "enc, dec = encoder(X_dim, z_dim), decoder(z_dim, X_dim)\n",
        "dis = discriminator(z_dim)"
      ],
      "metadata": {
        "id": "3A3KQq0KkaRZ"
      },
      "execution_count": null,
      "outputs": []
    },
    {
      "cell_type": "code",
      "source": [
        "#encode/decode optimizers\n",
        "optim_dec = torch.optim.Adam(dec.parameters(), lr=enc_lr)\n",
        "optim_enc = torch.optim.Adam(enc.parameters(), lr=enc_lr)\n",
        "#regularizing optimizers\n",
        "optim_enc_gen = torch.optim.Adam(enc.parameters(), lr=dis_lr)\n",
        "optim_dis = torch.optim.Adam(dis.parameters(), lr=dis_lr)"
      ],
      "metadata": {
        "id": "s9Wr26VvpDQ4"
      },
      "execution_count": null,
      "outputs": []
    },
    {
      "cell_type": "code",
      "source": [
        "data_iter = iter(data_loader)\n",
        "iter_per_epoch = len(data_loader)\n",
        "total_step = epochs*iter_per_epoch"
      ],
      "metadata": {
        "id": "yNR6j_C8b3o8"
      },
      "execution_count": null,
      "outputs": []
    },
    {
      "cell_type": "code",
      "source": [
        "epoch = 1\n",
        "loss_enc = {}\n",
        "loss_dec = {}\n",
        "loss_dis = {}\n",
        "# Start training\n",
        "for step in range(total_step):\n",
        "\n",
        "    # Reset the data_iter\n",
        "    if (step+1) % iter_per_epoch == 0:\n",
        "        data_iter = iter(data_loader)\n",
        "\n",
        "    # Fetch the images and labels and convert them to variables\n",
        "    images, labels = next(data_iter)\n",
        "    images, labels = to_var(images.view(images.size(0), -1)), to_var(labels)\n",
        "\n",
        "    #reconstruction loss\n",
        "    dec.zero_grad()\n",
        "    enc.zero_grad()\n",
        "    dis.zero_grad()\n",
        "\n",
        "    z_sample = enc(images)   #encode to z\n",
        "    X_sample = dec(z_sample) #decode to X reconstruction\n",
        "    recon_loss = F.mse_loss(X_sample+EPS,images+EPS)\n",
        "    loss_dec[epoch] = recon_loss\n",
        "\n",
        "    recon_loss.backward()\n",
        "    optim_dec.step()\n",
        "    optim_enc.step()\n",
        "\n",
        "    # Discriminator\n",
        "    ## true prior is random normal (randn)\n",
        "    ## this is constraining the Z-projection to be normal!\n",
        "    enc.eval()\n",
        "    z_real_gauss = Variable(torch.randn(images.size()[0], z_dim) * 5.)\n",
        "    D_real_gauss = dis(z_real_gauss)\n",
        "\n",
        "    z_fake_gauss = enc(images)\n",
        "    D_fake_gauss = dis(z_fake_gauss)\n",
        "\n",
        "    D_loss = -torch.mean(torch.log(D_real_gauss + EPS) + torch.log(1 - D_fake_gauss + EPS))\n",
        "    loss_dis[epoch] = D_loss\n",
        "\n",
        "    D_loss.backward()\n",
        "    optim_dis.step()\n",
        "\n",
        "    # Generator\n",
        "    enc.train()\n",
        "    z_fake_gauss = enc(images)\n",
        "    D_fake_gauss = dis(z_fake_gauss)\n",
        "    \n",
        "    G_loss = -torch.mean(torch.log(D_fake_gauss + EPS))\n",
        "    loss_enc[epoch] = G_loss\n",
        "\n",
        "    G_loss.backward()\n",
        "    optim_enc_gen.step()   \n",
        "\n",
        "    if (step+1) % iter_per_epoch == 0:\n",
        "      print(f\"Epoch: {epoch}/100\")\n",
        "      print(f\"Loss encoder: {G_loss}\", f\"Loss decoder: {recon_loss}\", f\"Loss discriminator: {D_loss}\")\n",
        "      epoch = epoch + 1\n",
        "\n",
        "#save the Encoder\n",
        "torch.save(enc.state_dict(),'Q_encoder_weights.pt')"
      ],
      "metadata": {
        "colab": {
          "base_uri": "https://localhost:8080/"
        },
        "id": "_IijxQ2IrF55",
        "outputId": "8de0ba80-a067-41e9-dc93-2ed299df5a61"
      },
      "execution_count": 19,
      "outputs": [
        {
          "metadata": {
            "tags": null
          },
          "name": "stderr",
          "output_type": "stream",
          "text": [
            "/usr/local/lib/python3.7/dist-packages/torch/nn/functional.py:1806: UserWarning: nn.functional.sigmoid is deprecated. Use torch.sigmoid instead.\n",
            "  warnings.warn(\"nn.functional.sigmoid is deprecated. Use torch.sigmoid instead.\")\n"
          ]
        },
        {
          "output_type": "stream",
          "name": "stdout",
          "text": [
            "Epoch: 1/100\n",
            "Loss encoder: 0.8843257427215576 Loss decoder: 0.05009131506085396 Loss discriminator: 0.7530828714370728\n",
            "Epoch: 2/100\n",
            "Loss encoder: 0.8549289703369141 Loss decoder: 0.051489442586898804 Loss discriminator: 0.7305314540863037\n",
            "Epoch: 3/100\n",
            "Loss encoder: 0.49947434663772583 Loss decoder: 0.054629165679216385 Loss discriminator: 0.6344159841537476\n",
            "Epoch: 4/100\n",
            "Loss encoder: 0.432508647441864 Loss decoder: 0.050304263830184937 Loss discriminator: 0.6680017113685608\n",
            "Epoch: 5/100\n",
            "Loss encoder: 0.32600095868110657 Loss decoder: 0.049600519239902496 Loss discriminator: 0.37367647886276245\n",
            "Epoch: 6/100\n",
            "Loss encoder: 0.33410465717315674 Loss decoder: 0.050797633826732635 Loss discriminator: 0.3896459937095642\n",
            "Epoch: 7/100\n",
            "Loss encoder: 0.36362138390541077 Loss decoder: 0.04733087494969368 Loss discriminator: 0.3626402020454407\n",
            "Epoch: 8/100\n",
            "Loss encoder: 0.4199414849281311 Loss decoder: 0.04771311581134796 Loss discriminator: 0.34198713302612305\n",
            "Epoch: 9/100\n",
            "Loss encoder: 0.3709002137184143 Loss decoder: 0.04571414366364479 Loss discriminator: 0.34748363494873047\n",
            "Epoch: 10/100\n",
            "Loss encoder: 0.171487957239151 Loss decoder: 0.04790407419204712 Loss discriminator: 0.2747974395751953\n",
            "Epoch: 11/100\n",
            "Loss encoder: 0.16280657052993774 Loss decoder: 0.04692074656486511 Loss discriminator: 0.2810632288455963\n",
            "Epoch: 12/100\n",
            "Loss encoder: 0.1801207959651947 Loss decoder: 0.047098323702812195 Loss discriminator: 0.28509625792503357\n",
            "Epoch: 13/100\n",
            "Loss encoder: 0.20225998759269714 Loss decoder: 0.045200083404779434 Loss discriminator: 0.2744024097919464\n",
            "Epoch: 14/100\n",
            "Loss encoder: 0.415914386510849 Loss decoder: 0.044420670717954636 Loss discriminator: 0.25783970952033997\n",
            "Epoch: 15/100\n",
            "Loss encoder: 0.12191496044397354 Loss decoder: 0.04777143523097038 Loss discriminator: 0.310372531414032\n",
            "Epoch: 16/100\n",
            "Loss encoder: 0.31800299882888794 Loss decoder: 0.04363024979829788 Loss discriminator: 0.2819879353046417\n",
            "Epoch: 17/100\n",
            "Loss encoder: 0.28369471430778503 Loss decoder: 0.04833229258656502 Loss discriminator: 0.15132176876068115\n",
            "Epoch: 18/100\n",
            "Loss encoder: 0.1504979282617569 Loss decoder: 0.046680133789777756 Loss discriminator: 0.25279176235198975\n",
            "Epoch: 19/100\n",
            "Loss encoder: 0.2675883173942566 Loss decoder: 0.04426062852144241 Loss discriminator: 0.3700912594795227\n",
            "Epoch: 20/100\n",
            "Loss encoder: 0.26363253593444824 Loss decoder: 0.046194806694984436 Loss discriminator: 0.20272493362426758\n",
            "Epoch: 21/100\n",
            "Loss encoder: 0.0812855064868927 Loss decoder: 0.04744069278240204 Loss discriminator: 0.33974674344062805\n",
            "Epoch: 22/100\n",
            "Loss encoder: 0.18135711550712585 Loss decoder: 0.04912399873137474 Loss discriminator: 0.362354040145874\n",
            "Epoch: 23/100\n",
            "Loss encoder: 0.24125459790229797 Loss decoder: 0.04742388427257538 Loss discriminator: 0.20515359938144684\n",
            "Epoch: 24/100\n",
            "Loss encoder: 0.20275546610355377 Loss decoder: 0.04798099771142006 Loss discriminator: 0.4255872368812561\n",
            "Epoch: 25/100\n",
            "Loss encoder: 0.24960024654865265 Loss decoder: 0.044913630932569504 Loss discriminator: 0.2547914981842041\n",
            "Epoch: 26/100\n",
            "Loss encoder: 0.31651949882507324 Loss decoder: 0.04721622169017792 Loss discriminator: 0.4639805555343628\n",
            "Epoch: 27/100\n",
            "Loss encoder: 0.2022320032119751 Loss decoder: 0.04642178490757942 Loss discriminator: 0.5290446877479553\n",
            "Epoch: 28/100\n",
            "Loss encoder: 0.19047029316425323 Loss decoder: 0.04406655952334404 Loss discriminator: 0.37509018182754517\n",
            "Epoch: 29/100\n",
            "Loss encoder: 0.20500986278057098 Loss decoder: 0.04651616886258125 Loss discriminator: 0.4397966265678406\n",
            "Epoch: 30/100\n",
            "Loss encoder: 0.06973563134670258 Loss decoder: 0.05103043094277382 Loss discriminator: 0.4134747385978699\n",
            "Epoch: 31/100\n",
            "Loss encoder: 0.3040636479854584 Loss decoder: 0.050005629658699036 Loss discriminator: 0.34983599185943604\n",
            "Epoch: 32/100\n",
            "Loss encoder: 0.24618671834468842 Loss decoder: 0.042580340057611465 Loss discriminator: 0.4013485908508301\n",
            "Epoch: 33/100\n",
            "Loss encoder: 0.13603736460208893 Loss decoder: 0.04161219298839569 Loss discriminator: 0.3280012309551239\n",
            "Epoch: 34/100\n",
            "Loss encoder: 0.09922902286052704 Loss decoder: 0.0442335270345211 Loss discriminator: 0.3824586570262909\n",
            "Epoch: 35/100\n",
            "Loss encoder: 0.25091761350631714 Loss decoder: 0.04420863464474678 Loss discriminator: 0.34795039892196655\n",
            "Epoch: 36/100\n",
            "Loss encoder: 0.09985210746526718 Loss decoder: 0.04703618586063385 Loss discriminator: 0.45301342010498047\n",
            "Epoch: 37/100\n",
            "Loss encoder: 0.44475364685058594 Loss decoder: 0.04568333551287651 Loss discriminator: 0.6215141415596008\n",
            "Epoch: 38/100\n",
            "Loss encoder: 0.6874164342880249 Loss decoder: 0.04294958710670471 Loss discriminator: 0.3989543318748474\n",
            "Epoch: 39/100\n",
            "Loss encoder: 0.5164538621902466 Loss decoder: 0.0497911237180233 Loss discriminator: 0.5842159986495972\n",
            "Epoch: 40/100\n",
            "Loss encoder: 0.5568376779556274 Loss decoder: 0.04517873376607895 Loss discriminator: 0.6753259301185608\n",
            "Epoch: 41/100\n",
            "Loss encoder: 0.598179817199707 Loss decoder: 0.047883473336696625 Loss discriminator: 0.6559706330299377\n",
            "Epoch: 42/100\n",
            "Loss encoder: 0.37939417362213135 Loss decoder: 0.04260638356208801 Loss discriminator: 0.4558727443218231\n",
            "Epoch: 43/100\n",
            "Loss encoder: 0.9597537517547607 Loss decoder: 0.0446060374379158 Loss discriminator: 0.4261545240879059\n",
            "Epoch: 44/100\n",
            "Loss encoder: 0.564717710018158 Loss decoder: 0.04411543533205986 Loss discriminator: 0.49318867921829224\n",
            "Epoch: 45/100\n",
            "Loss encoder: 0.6036723256111145 Loss decoder: 0.04123979061841965 Loss discriminator: 0.39216387271881104\n",
            "Epoch: 46/100\n",
            "Loss encoder: 0.5372452735900879 Loss decoder: 0.046089302748441696 Loss discriminator: 0.4633931517601013\n",
            "Epoch: 47/100\n",
            "Loss encoder: 0.4259874224662781 Loss decoder: 0.044041525572538376 Loss discriminator: 0.4718227982521057\n",
            "Epoch: 48/100\n",
            "Loss encoder: 0.35738322138786316 Loss decoder: 0.042722564190626144 Loss discriminator: 0.433490127325058\n",
            "Epoch: 49/100\n",
            "Loss encoder: 0.49338412284851074 Loss decoder: 0.041230183094739914 Loss discriminator: 0.3524847626686096\n",
            "Epoch: 50/100\n",
            "Loss encoder: 0.47971415519714355 Loss decoder: 0.046527229249477386 Loss discriminator: 0.5264047980308533\n",
            "Epoch: 51/100\n",
            "Loss encoder: 0.2679489850997925 Loss decoder: 0.04225551709532738 Loss discriminator: 0.7098820805549622\n",
            "Epoch: 52/100\n",
            "Loss encoder: 0.6372138857841492 Loss decoder: 0.04317787289619446 Loss discriminator: 0.5443246364593506\n",
            "Epoch: 53/100\n",
            "Loss encoder: 0.6424930691719055 Loss decoder: 0.04781835898756981 Loss discriminator: 0.436763197183609\n",
            "Epoch: 54/100\n",
            "Loss encoder: 0.6225364208221436 Loss decoder: 0.04172562435269356 Loss discriminator: 0.4924849569797516\n",
            "Epoch: 55/100\n",
            "Loss encoder: 0.34672990441322327 Loss decoder: 0.04677654802799225 Loss discriminator: 0.4428028464317322\n",
            "Epoch: 56/100\n",
            "Loss encoder: 0.6073873043060303 Loss decoder: 0.04355292767286301 Loss discriminator: 0.3484376072883606\n",
            "Epoch: 57/100\n",
            "Loss encoder: 0.374930202960968 Loss decoder: 0.04560219869017601 Loss discriminator: 0.4964856803417206\n",
            "Epoch: 58/100\n",
            "Loss encoder: 0.5884137153625488 Loss decoder: 0.046485040336847305 Loss discriminator: 0.4677450656890869\n",
            "Epoch: 59/100\n",
            "Loss encoder: 0.5870625376701355 Loss decoder: 0.04450400918722153 Loss discriminator: 0.547623872756958\n",
            "Epoch: 60/100\n",
            "Loss encoder: 0.4335547983646393 Loss decoder: 0.04255696386098862 Loss discriminator: 0.6468709111213684\n",
            "Epoch: 61/100\n",
            "Loss encoder: 0.703069806098938 Loss decoder: 0.044542137533426285 Loss discriminator: 0.26795050501823425\n",
            "Epoch: 62/100\n",
            "Loss encoder: 0.6060369610786438 Loss decoder: 0.04007401689887047 Loss discriminator: 0.3486763536930084\n",
            "Epoch: 63/100\n",
            "Loss encoder: 0.43013429641723633 Loss decoder: 0.04210152104496956 Loss discriminator: 0.4420388340950012\n",
            "Epoch: 64/100\n",
            "Loss encoder: 0.604162335395813 Loss decoder: 0.040301866829395294 Loss discriminator: 0.32201796770095825\n",
            "Epoch: 65/100\n",
            "Loss encoder: 0.8282669186592102 Loss decoder: 0.04212592914700508 Loss discriminator: 0.5241014957427979\n",
            "Epoch: 66/100\n",
            "Loss encoder: 0.7672291398048401 Loss decoder: 0.04573278874158859 Loss discriminator: 0.4930186867713928\n",
            "Epoch: 67/100\n",
            "Loss encoder: 0.37132471799850464 Loss decoder: 0.043350283056497574 Loss discriminator: 0.43685033917427063\n",
            "Epoch: 68/100\n",
            "Loss encoder: 0.7379760146141052 Loss decoder: 0.042661480605602264 Loss discriminator: 0.33644166588783264\n",
            "Epoch: 69/100\n",
            "Loss encoder: 0.6431610584259033 Loss decoder: 0.04496528208255768 Loss discriminator: 0.3608054518699646\n",
            "Epoch: 70/100\n",
            "Loss encoder: 0.43844521045684814 Loss decoder: 0.043888747692108154 Loss discriminator: 0.46543222665786743\n",
            "Epoch: 71/100\n",
            "Loss encoder: 0.768010139465332 Loss decoder: 0.043820321559906006 Loss discriminator: 0.3240692615509033\n",
            "Epoch: 72/100\n",
            "Loss encoder: 0.8009740114212036 Loss decoder: 0.04432295262813568 Loss discriminator: 0.3787917196750641\n",
            "Epoch: 73/100\n",
            "Loss encoder: 0.5718855857849121 Loss decoder: 0.04301176220178604 Loss discriminator: 0.5029674768447876\n",
            "Epoch: 74/100\n",
            "Loss encoder: 0.7091677188873291 Loss decoder: 0.04058606177568436 Loss discriminator: 0.4377428889274597\n",
            "Epoch: 75/100\n",
            "Loss encoder: 0.6202551126480103 Loss decoder: 0.04159487411379814 Loss discriminator: 0.5700725317001343\n",
            "Epoch: 76/100\n",
            "Loss encoder: 0.534407913684845 Loss decoder: 0.04028484970331192 Loss discriminator: 0.4838828146457672\n",
            "Epoch: 77/100\n",
            "Loss encoder: 0.562080442905426 Loss decoder: 0.038579411804676056 Loss discriminator: 0.45203858613967896\n",
            "Epoch: 78/100\n",
            "Loss encoder: 0.8883824348449707 Loss decoder: 0.04145599529147148 Loss discriminator: 0.45129674673080444\n",
            "Epoch: 79/100\n",
            "Loss encoder: 0.5867373943328857 Loss decoder: 0.04835972562432289 Loss discriminator: 0.42567792534828186\n",
            "Epoch: 80/100\n",
            "Loss encoder: 0.5682724714279175 Loss decoder: 0.04393158107995987 Loss discriminator: 0.4233357906341553\n",
            "Epoch: 81/100\n",
            "Loss encoder: 0.6614052057266235 Loss decoder: 0.04334675520658493 Loss discriminator: 0.5144419074058533\n",
            "Epoch: 82/100\n",
            "Loss encoder: 0.8120987415313721 Loss decoder: 0.042159996926784515 Loss discriminator: 0.37450218200683594\n",
            "Epoch: 83/100\n",
            "Loss encoder: 0.5964474678039551 Loss decoder: 0.041836194694042206 Loss discriminator: 0.3361237347126007\n",
            "Epoch: 84/100\n",
            "Loss encoder: 0.4704011380672455 Loss decoder: 0.04112757369875908 Loss discriminator: 0.46627363562583923\n",
            "Epoch: 85/100\n",
            "Loss encoder: 0.46874287724494934 Loss decoder: 0.04298233613371849 Loss discriminator: 0.6739766001701355\n",
            "Epoch: 86/100\n",
            "Loss encoder: 0.4905660152435303 Loss decoder: 0.04708924889564514 Loss discriminator: 0.6190174221992493\n",
            "Epoch: 87/100\n",
            "Loss encoder: 0.808628261089325 Loss decoder: 0.039860717952251434 Loss discriminator: 0.43472692370414734\n",
            "Epoch: 88/100\n",
            "Loss encoder: 0.734881579875946 Loss decoder: 0.04119040444493294 Loss discriminator: 0.2948418855667114\n",
            "Epoch: 89/100\n",
            "Loss encoder: 0.6138180494308472 Loss decoder: 0.04210621118545532 Loss discriminator: 0.39456117153167725\n",
            "Epoch: 90/100\n",
            "Loss encoder: 0.70308917760849 Loss decoder: 0.045465655624866486 Loss discriminator: 0.4676862061023712\n",
            "Epoch: 91/100\n",
            "Loss encoder: 0.7973336577415466 Loss decoder: 0.04696628823876381 Loss discriminator: 0.6178264617919922\n",
            "Epoch: 92/100\n",
            "Loss encoder: 0.5504236817359924 Loss decoder: 0.0434010848402977 Loss discriminator: 0.5972641110420227\n",
            "Epoch: 93/100\n",
            "Loss encoder: 0.5734413266181946 Loss decoder: 0.04188071936368942 Loss discriminator: 0.45558732748031616\n",
            "Epoch: 94/100\n",
            "Loss encoder: 0.41777294874191284 Loss decoder: 0.04505850374698639 Loss discriminator: 0.44320589303970337\n",
            "Epoch: 95/100\n",
            "Loss encoder: 0.8495320677757263 Loss decoder: 0.044015899300575256 Loss discriminator: 0.5358840227127075\n",
            "Epoch: 96/100\n",
            "Loss encoder: 0.9224863648414612 Loss decoder: 0.0411592535674572 Loss discriminator: 0.45538339018821716\n",
            "Epoch: 97/100\n",
            "Loss encoder: 0.839447557926178 Loss decoder: 0.04394417256116867 Loss discriminator: 0.45714089274406433\n",
            "Epoch: 98/100\n",
            "Loss encoder: 0.5559430122375488 Loss decoder: 0.04466557875275612 Loss discriminator: 0.5120512247085571\n",
            "Epoch: 99/100\n",
            "Loss encoder: 0.664096474647522 Loss decoder: 0.04275895282626152 Loss discriminator: 0.5753886699676514\n",
            "Epoch: 100/100\n",
            "Loss encoder: 0.4121396541595459 Loss decoder: 0.04094614461064339 Loss discriminator: 0.46415695548057556\n"
          ]
        }
      ]
    },
    {
      "cell_type": "markdown",
      "source": [
        "## Plotting the reconstruction loss and discriminator loss"
      ],
      "metadata": {
        "id": "79d_PUvGBr91"
      }
    },
    {
      "cell_type": "code",
      "source": [
        "dec_val = [val.item() for val in loss_dec.values()]\n",
        "dis_val = [val.item() for val in loss_dis.values()]"
      ],
      "metadata": {
        "id": "22sojEOnb60g"
      },
      "execution_count": 27,
      "outputs": []
    },
    {
      "cell_type": "code",
      "source": [
        "fig,ax = plt.subplots()\n",
        "ax.plot(list(loss_dec.keys()),dec_val,c='r',label='Reconstruction loss')\n",
        "ax.plot(list(loss_dis.keys()),dis_val,c='b',label='Discriminator Loss')\n",
        "ax.set_xlabel('Epoch')\n",
        "ax.set_ylabel('Loss')\n",
        "ax.legend()\n",
        "ax.set_title('Loss vs Epoch')\n",
        "plt.show()"
      ],
      "metadata": {
        "id": "YsSfUgoLB50e",
        "colab": {
          "base_uri": "https://localhost:8080/",
          "height": 295
        },
        "outputId": "075d4cac-36d0-4870-b9a3-64cd74b4a568"
      },
      "execution_count": 28,
      "outputs": [
        {
          "output_type": "display_data",
          "data": {
            "text/plain": [
              "<Figure size 432x288 with 1 Axes>"
            ],
            "image/png": "[encoded data removed]"
          },
          "metadata": {
            "needs_background": "light"
          }
        }
      ]
    },
    {
      "cell_type": "markdown",
      "source": [
        "## Generating a Sample"
      ],
      "metadata": {
        "id": "rIf6eTNiEhjc"
      }
    },
    {
      "cell_type": "code",
      "source": [
        "enc_out = enc(mnist_dataset.__getitem__(0)[0].reshape(1, 784))\n",
        "dec_out = dec(enc_out)"
      ],
      "metadata": {
        "colab": {
          "base_uri": "https://localhost:8080/"
        },
        "id": "32WBW59qEkpB",
        "outputId": "e7b65dad-9c5d-4fd0-bd67-56a392a25376"
      },
      "execution_count": 35,
      "outputs": [
        {
          "output_type": "stream",
          "name": "stderr",
          "text": [
            "/usr/local/lib/python3.7/dist-packages/torch/nn/functional.py:1806: UserWarning: nn.functional.sigmoid is deprecated. Use torch.sigmoid instead.\n",
            "  warnings.warn(\"nn.functional.sigmoid is deprecated. Use torch.sigmoid instead.\")\n"
          ]
        }
      ]
    },
    {
      "cell_type": "code",
      "source": [
        "plt.imshow(dec_out.detach().numpy().reshape(28, 28))"
      ],
      "metadata": {
        "colab": {
          "base_uri": "https://localhost:8080/",
          "height": 283
        },
        "id": "0hjOKGqBeb6U",
        "outputId": "d4d56766-8c85-451d-c42d-1f99d2d6487c"
      },
      "execution_count": 40,
      "outputs": [
        {
          "output_type": "execute_result",
          "data": {
            "text/plain": [
              "<matplotlib.image.AxesImage at 0x7f1003128dd0>"
            ]
          },
          "metadata": {},
          "execution_count": 40
        },
        {
          "output_type": "display_data",
          "data": {
            "text/plain": [
              "<Figure size 432x288 with 1 Axes>"
            ],
            "image/png": "[encoded data removed]"
          },
          "metadata": {
            "needs_background": "light"
          }
        }
      ]
    },
    {
      "cell_type": "code",
      "source": [
        "plt.imshow(mnist_dataset.__getitem__(0)[0].squeeze(0))"
      ],
      "metadata": {
        "colab": {
          "base_uri": "https://localhost:8080/",
          "height": 283
        },
        "id": "7WDLgCwKfxnq",
        "outputId": "62a93868-7cda-41fb-beef-e44ec3d624b0"
      },
      "execution_count": 47,
      "outputs": [
        {
          "output_type": "execute_result",
          "data": {
            "text/plain": [
              "<matplotlib.image.AxesImage at 0x7f1002c8ed90>"
            ]
          },
          "metadata": {},
          "execution_count": 47
        },
        {
          "output_type": "display_data",
          "data": {
            "text/plain": [
              "<Figure size 432x288 with 1 Axes>"
            ],
            "image/png": "[encoded data removed]"
          },
          "metadata": {
            "needs_background": "light"
          }
        }
      ]
    },
    {
      "cell_type": "code",
      "source": [
        "enc_out = enc(mnist_dataset.__getitem__(25)[0].reshape(1, 784))\n",
        "dec_out = dec(enc_out)\n",
        "plt.imshow(dec_out.detach().numpy().reshape(28, 28))"
      ],
      "metadata": {
        "colab": {
          "base_uri": "https://localhost:8080/",
          "height": 320
        },
        "id": "xxpoOxfBfVUg",
        "outputId": "ea57d331-494c-4bc1-8bb0-c2508376fd4b"
      },
      "execution_count": 45,
      "outputs": [
        {
          "output_type": "stream",
          "name": "stderr",
          "text": [
            "/usr/local/lib/python3.7/dist-packages/torch/nn/functional.py:1806: UserWarning: nn.functional.sigmoid is deprecated. Use torch.sigmoid instead.\n",
            "  warnings.warn(\"nn.functional.sigmoid is deprecated. Use torch.sigmoid instead.\")\n"
          ]
        },
        {
          "output_type": "execute_result",
          "data": {
            "text/plain": [
              "<matplotlib.image.AxesImage at 0x7f1002d3d890>"
            ]
          },
          "metadata": {},
          "execution_count": 45
        },
        {
          "output_type": "display_data",
          "data": {
            "text/plain": [
              "<Figure size 432x288 with 1 Axes>"
            ],
            "image/png": "[encoded data removed]"
          },
          "metadata": {
            "needs_background": "light"
          }
        }
      ]
    },
    {
      "cell_type": "code",
      "source": [
        "plt.imshow(mnist_dataset.__getitem__(25)[0].squeeze(0))"
      ],
      "metadata": {
        "colab": {
          "base_uri": "https://localhost:8080/",
          "height": 283
        },
        "id": "c4E98ndXftVh",
        "outputId": "322cb022-4ad2-4df3-88a0-a3c3a72a6b04"
      },
      "execution_count": 46,
      "outputs": [
        {
          "output_type": "execute_result",
          "data": {
            "text/plain": [
              "<matplotlib.image.AxesImage at 0x7f1002ca8810>"
            ]
          },
          "metadata": {},
          "execution_count": 46
        },
        {
          "output_type": "display_data",
          "data": {
            "text/plain": [
              "<Figure size 432x288 with 1 Axes>"
            ],
            "image/png": "[encoded data removed]"
          },
          "metadata": {
            "needs_background": "light"
          }
        }
      ]
    },
    {
      "cell_type": "markdown",
      "source": [
        "## Training - Binary Crossentropy loss"
      ],
      "metadata": {
        "id": "TV5TuD8afEVe"
      }
    },
    {
      "cell_type": "code",
      "source": [
        "torch.manual_seed(10)\n",
        "enc1, dec1 = encoder(X_dim, z_dim), decoder(z_dim, X_dim)\n",
        "dis1 = discriminator(z_dim)"
      ],
      "metadata": {
        "id": "tCWQA_XdfIdL"
      },
      "execution_count": 48,
      "outputs": []
    },
    {
      "cell_type": "code",
      "source": [
        "#encode/decode optimizers\n",
        "optim_dec1 = torch.optim.Adam(dec1.parameters(), lr=enc_lr)\n",
        "optim_enc1 = torch.optim.Adam(enc1.parameters(), lr=enc_lr)\n",
        "#regularizing optimizers\n",
        "optim_enc_gen1 = torch.optim.Adam(enc1.parameters(), lr=dis_lr)\n",
        "optim_dis1 = torch.optim.Adam(dis1.parameters(), lr=dis_lr)"
      ],
      "metadata": {
        "id": "DcXTmqOqfR19"
      },
      "execution_count": 52,
      "outputs": []
    },
    {
      "cell_type": "code",
      "source": [
        "epochs = 30\n",
        "data_iter1 = iter(data_loader)\n",
        "iter_per_epoch1 = len(data_loader)\n",
        "total_step = epochs*iter_per_epoch1"
      ],
      "metadata": {
        "id": "gdM9BeYqf9-V"
      },
      "execution_count": 57,
      "outputs": []
    },
    {
      "cell_type": "code",
      "source": [
        "epoch = 1\n",
        "loss_enc = {}\n",
        "loss_dec = {}\n",
        "loss_dis = {}\n",
        "# Start training\n",
        "for step in range(total_step):\n",
        "\n",
        "    # Reset the data_iter\n",
        "    if (step+1) % iter_per_epoch == 0:\n",
        "        data_iter1 = iter(data_loader)\n",
        "\n",
        "    # Fetch the images and labels and convert them to variables\n",
        "    images, labels = next(data_iter1)\n",
        "    images, labels = to_var(images.view(images.size(0), -1)), to_var(labels)\n",
        "\n",
        "    #reconstruction loss\n",
        "    dec1.zero_grad()\n",
        "    enc1.zero_grad()\n",
        "    dis1.zero_grad()\n",
        "\n",
        "    z_sample = enc1(images)   #encode to z\n",
        "    X_sample = dec1(z_sample) #decode to X reconstruction\n",
        "    recon_loss = F.binary_cross_entropy(X_sample+EPS,images+EPS)\n",
        "    loss_dec[epoch] = recon_loss\n",
        "\n",
        "    recon_loss.backward()\n",
        "    optim_dec1.step()\n",
        "    optim_enc1.step()\n",
        "\n",
        "    # Discriminator\n",
        "    ## true prior is random normal (randn)\n",
        "    ## this is constraining the Z-projection to be normal!\n",
        "    enc1.eval()\n",
        "    z_real_gauss = Variable(torch.randn(images.size()[0], z_dim) * 5.)\n",
        "    D_real_gauss = dis1(z_real_gauss)\n",
        "\n",
        "    z_fake_gauss = enc1(images)\n",
        "    D_fake_gauss = dis1(z_fake_gauss)\n",
        "\n",
        "    D_loss = -torch.mean(torch.log(D_real_gauss + EPS) + torch.log(1 - D_fake_gauss + EPS))\n",
        "    loss_dis[epoch] = D_loss\n",
        "\n",
        "    D_loss.backward()\n",
        "    optim_dis1.step()\n",
        "\n",
        "    # Generator\n",
        "    enc1.train()\n",
        "    z_fake_gauss = enc1(images)\n",
        "    D_fake_gauss = dis1(z_fake_gauss)\n",
        "    \n",
        "    G_loss = -torch.mean(torch.log(D_fake_gauss + EPS))\n",
        "    loss_enc[epoch] = G_loss\n",
        "\n",
        "    G_loss.backward()\n",
        "    optim_enc_gen1.step()   \n",
        "\n",
        "    if (step+1) % iter_per_epoch == 0:\n",
        "      print(f\"Epoch: {epoch}/{epochs}\")\n",
        "      print(f\"Loss encoder: {G_loss}\", f\"Loss decoder: {recon_loss}\", f\"Loss discriminator: {D_loss}\")\n",
        "      epoch = epoch + 1\n",
        "\n",
        "#save the Encoder\n",
        "torch.save(enc1.state_dict(),'Q_encoder_weights.pt')"
      ],
      "metadata": {
        "colab": {
          "base_uri": "https://localhost:8080/"
        },
        "id": "f7-u7_KygJdH",
        "outputId": "3c054b39-ce45-4608-bbfb-611913df2d04"
      },
      "execution_count": 58,
      "outputs": [
        {
          "output_type": "stream",
          "name": "stderr",
          "text": [
            "/usr/local/lib/python3.7/dist-packages/torch/nn/functional.py:1806: UserWarning: nn.functional.sigmoid is deprecated. Use torch.sigmoid instead.\n",
            "  warnings.warn(\"nn.functional.sigmoid is deprecated. Use torch.sigmoid instead.\")\n"
          ]
        },
        {
          "output_type": "stream",
          "name": "stdout",
          "text": [
            "Epoch: 1/30\n",
            "Loss encoder: 0.9804974794387817 Loss decoder: 0.20390400290489197 Loss discriminator: 0.9165140390396118\n",
            "Epoch: 2/30\n",
            "Loss encoder: 0.586223840713501 Loss decoder: 0.208461195230484 Loss discriminator: 0.7456680536270142\n",
            "Epoch: 3/30\n",
            "Loss encoder: 0.4155851900577545 Loss decoder: 0.19712041318416595 Loss discriminator: 0.5779280066490173\n",
            "Epoch: 4/30\n",
            "Loss encoder: 0.27706658840179443 Loss decoder: 0.21341243386268616 Loss discriminator: 0.5385174751281738\n",
            "Epoch: 5/30\n",
            "Loss encoder: 0.24473033845424652 Loss decoder: 0.21102726459503174 Loss discriminator: 0.3802146017551422\n",
            "Epoch: 6/30\n",
            "Loss encoder: 0.1972394734621048 Loss decoder: 0.1940861940383911 Loss discriminator: 0.5768821239471436\n",
            "Epoch: 7/30\n",
            "Loss encoder: 0.3278293013572693 Loss decoder: 0.19086533784866333 Loss discriminator: 0.45802128314971924\n",
            "Epoch: 8/30\n",
            "Loss encoder: 0.28878167271614075 Loss decoder: 0.20541007816791534 Loss discriminator: 0.3588758111000061\n",
            "Epoch: 9/30\n",
            "Loss encoder: 0.2529557943344116 Loss decoder: 0.18889109790325165 Loss discriminator: 0.22437359392642975\n",
            "Epoch: 10/30\n",
            "Loss encoder: 0.36125046014785767 Loss decoder: 0.19463206827640533 Loss discriminator: 0.2597515285015106\n",
            "Epoch: 11/30\n",
            "Loss encoder: 0.20409724116325378 Loss decoder: 0.1901579052209854 Loss discriminator: 0.3739660680294037\n",
            "Epoch: 12/30\n",
            "Loss encoder: 0.4710164964199066 Loss decoder: 0.20339877903461456 Loss discriminator: 0.21059376001358032\n",
            "Epoch: 13/30\n",
            "Loss encoder: 0.28046250343322754 Loss decoder: 0.20493079721927643 Loss discriminator: 0.28453680872917175\n",
            "Epoch: 14/30\n",
            "Loss encoder: 0.332764208316803 Loss decoder: 0.20406176149845123 Loss discriminator: 0.25512295961380005\n",
            "Epoch: 15/30\n",
            "Loss encoder: 0.21887491643428802 Loss decoder: 0.19521120190620422 Loss discriminator: 0.19733604788780212\n",
            "Epoch: 16/30\n",
            "Loss encoder: 0.19542096555233002 Loss decoder: 0.201146200299263 Loss discriminator: 0.33578944206237793\n",
            "Epoch: 17/30\n",
            "Loss encoder: 0.293168306350708 Loss decoder: 0.19688330590724945 Loss discriminator: 0.2980574071407318\n",
            "Epoch: 18/30\n",
            "Loss encoder: 0.13251842558383942 Loss decoder: 0.19522768259048462 Loss discriminator: 0.4326132833957672\n",
            "Epoch: 19/30\n",
            "Loss encoder: 0.3107191324234009 Loss decoder: 0.1906055510044098 Loss discriminator: 0.4491349756717682\n",
            "Epoch: 20/30\n",
            "Loss encoder: 0.1663491427898407 Loss decoder: 0.1974756121635437 Loss discriminator: 0.23793473839759827\n",
            "Epoch: 21/30\n",
            "Loss encoder: 0.1692168265581131 Loss decoder: 0.210855633020401 Loss discriminator: 0.34825003147125244\n",
            "Epoch: 22/30\n",
            "Loss encoder: 0.18112784624099731 Loss decoder: 0.19117648899555206 Loss discriminator: 0.2449163943529129\n",
            "Epoch: 23/30\n",
            "Loss encoder: 0.18870271742343903 Loss decoder: 0.18666967749595642 Loss discriminator: 0.4353017210960388\n",
            "Epoch: 24/30\n",
            "Loss encoder: 0.28993940353393555 Loss decoder: 0.1928817629814148 Loss discriminator: 0.2371036410331726\n",
            "Epoch: 25/30\n",
            "Loss encoder: 0.40474000573158264 Loss decoder: 0.19374635815620422 Loss discriminator: 0.3125115633010864\n",
            "Epoch: 26/30\n",
            "Loss encoder: 0.17289282381534576 Loss decoder: 0.21069838106632233 Loss discriminator: 0.49882566928863525\n",
            "Epoch: 27/30\n",
            "Loss encoder: 0.2849033772945404 Loss decoder: 0.19235415756702423 Loss discriminator: 0.43326663970947266\n",
            "Epoch: 28/30\n",
            "Loss encoder: 0.32383790612220764 Loss decoder: 0.1982152909040451 Loss discriminator: 0.3047176003456116\n",
            "Epoch: 29/30\n",
            "Loss encoder: 0.22393456101417542 Loss decoder: 0.1873740553855896 Loss discriminator: 0.45988425612449646\n",
            "Epoch: 30/30\n",
            "Loss encoder: 0.588273286819458 Loss decoder: 0.19407786428928375 Loss discriminator: 0.23594672977924347\n"
          ]
        }
      ]
    },
    {
      "cell_type": "markdown",
      "source": [
        "## Plotting the reconstruction loss and discriminator loss"
      ],
      "metadata": {
        "id": "Qh0DEbZVpZ4L"
      }
    },
    {
      "cell_type": "code",
      "source": [
        "dec_val = [val.item() for val in loss_dec.values()]\n",
        "dis_val = [val.item() for val in loss_dis.values()]\n",
        "fig,ax = plt.subplots()\n",
        "ax.plot(list(loss_dec.keys()),dec_val,c='r',label='Reconstruction loss')\n",
        "ax.plot(list(loss_dis.keys()),dis_val,c='b',label='Discriminator Loss')\n",
        "ax.set_xlabel('Epoch')\n",
        "ax.set_ylabel('Loss')\n",
        "ax.legend()\n",
        "ax.set_title('Loss vs Epoch')\n",
        "plt.show()"
      ],
      "metadata": {
        "colab": {
          "base_uri": "https://localhost:8080/",
          "height": 295
        },
        "id": "79OeYt8Gpa4-",
        "outputId": "1c89783e-dced-430e-f7ea-591ca29044a9"
      },
      "execution_count": 59,
      "outputs": [
        {
          "output_type": "display_data",
          "data": {
            "text/plain": [
              "<Figure size 432x288 with 1 Axes>"
            ],
            "image/png": "[encoded data removed]"
          },
          "metadata": {
            "needs_background": "light"
          }
        }
      ]
    },
    {
      "cell_type": "markdown",
      "source": [
        "## Generating a Sample"
      ],
      "metadata": {
        "id": "rq4PLjZWpvLT"
      }
    },
    {
      "cell_type": "code",
      "source": [
        "enc_out = enc1(mnist_dataset.__getitem__(0)[0].reshape(1, 784))\n",
        "dec_out = dec1(enc_out)\n",
        "plt.imshow(dec_out.detach().numpy().reshape(28, 28))"
      ],
      "metadata": {
        "colab": {
          "base_uri": "https://localhost:8080/",
          "height": 320
        },
        "id": "QWzNfKpApwUX",
        "outputId": "87cb8783-964b-4cee-d74d-ecc362473d08"
      },
      "execution_count": 62,
      "outputs": [
        {
          "output_type": "stream",
          "name": "stderr",
          "text": [
            "/usr/local/lib/python3.7/dist-packages/torch/nn/functional.py:1806: UserWarning: nn.functional.sigmoid is deprecated. Use torch.sigmoid instead.\n",
            "  warnings.warn(\"nn.functional.sigmoid is deprecated. Use torch.sigmoid instead.\")\n"
          ]
        },
        {
          "output_type": "execute_result",
          "data": {
            "text/plain": [
              "<matplotlib.image.AxesImage at 0x7f100291d490>"
            ]
          },
          "metadata": {},
          "execution_count": 62
        },
        {
          "output_type": "display_data",
          "data": {
            "text/plain": [
              "<Figure size 432x288 with 1 Axes>"
            ],
            "image/png": "[encoded data removed]"
          },
          "metadata": {
            "needs_background": "light"
          }
        }
      ]
    },
    {
      "cell_type": "code",
      "source": [
        "plt.imshow(mnist_dataset.__getitem__(0)[0].squeeze(0))"
      ],
      "metadata": {
        "colab": {
          "base_uri": "https://localhost:8080/",
          "height": 283
        },
        "id": "sghyudUzqEFt",
        "outputId": "05b12611-4eaa-45c6-882a-f9f7d3d890d6"
      },
      "execution_count": 61,
      "outputs": [
        {
          "output_type": "execute_result",
          "data": {
            "text/plain": [
              "<matplotlib.image.AxesImage at 0x7f10028f1750>"
            ]
          },
          "metadata": {},
          "execution_count": 61
        },
        {
          "output_type": "display_data",
          "data": {
            "text/plain": [
              "<Figure size 432x288 with 1 Axes>"
            ],
            "image/png": "[encoded data removed]"
          },
          "metadata": {
            "needs_background": "light"
          }
        }
      ]
    },
    {
      "cell_type": "markdown",
      "source": [
        "## Training process of Adversarial Auto encoders\n",
        "\n",
        "The training procedure for this architecture for each minibatch is performed as follows:\n",
        "\n",
        "1) A forward path through the encoder/decoder part is done, computing the reconstruction loss and updating the parameteres of the encoder and decoder networks.\n",
        "\n",
        "2) I created a latent representation z = encoder(x) and take a sample z’ from the prior p(z), and trained each once through the discriminator and compute the score assigned to each (D(z) and D(z’)).\n",
        "\n",
        "3) Next I computed the loss in the discriminator as and backpropagated it through the discriminator network to updated its weights.\n",
        "\n",
        "4) Finally I computed the loss of the generator network and updated the encoder network accordingly."
      ],
      "metadata": {
        "id": "IDm2046EALva"
      }
    },
    {
      "cell_type": "markdown",
      "source": [
        "## Thoughts on the loss functions\n",
        "\n",
        "I trained the binary cross entropy for 30 epochs only but still it showed a better convergence then Mean squared error which I trined for 100 epochs\n",
        "\n",
        "So, I think Binary cross entropy is better"
      ],
      "metadata": {
        "id": "JEprmn89vYHg"
      }
    },
    {
      "cell_type": "code",
      "source": [
        ""
      ],
      "metadata": {
        "id": "I-BfKfx5AQqd"
      },
      "execution_count": null,
      "outputs": []
    }
  ]
}